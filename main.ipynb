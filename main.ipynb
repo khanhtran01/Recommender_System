{
 "cells": [
  {
   "cell_type": "code",
   "execution_count": 261,
   "source": [
    "from time import process_time_ns\n",
    "from types import new_class\n",
    "from typing import List\n",
    "import pandas as pd\n",
    "import numpy as np\n",
    "from scipy.sparse import csr_matrix\n",
    "from sklearn.metrics.pairwise import cosine_similarity, euclidean_distances\n",
    "from sklearn.neighbors import NearestNeighbors\n",
    "import matplotlib.pyplot as plt\n",
    "import seaborn as sns\n",
    "np.set_printoptions(suppress=True)\n",
    "movies = pd.read_csv('movies.csv', low_memory=False)\n",
    "ratings = pd.read_csv('ratings.csv', low_memory=False)\n",
    "asc = ratings.sort_values(by=['userId', 'timestamp'])\n",
    "# print(asc)\n",
    "# print(asc.values)\n",
    "def getListUid(uid):\n",
    "    ratings_temp = ratings\n",
    "    movies_temp = movies\n",
    "    \n",
    "    final_dataset = ratings_temp.pivot(index='movieId',columns='userId',values='rating')\n",
    "    time_dataset = ratings_temp.pivot(index='movieId',columns='userId',values='timestamp')\n",
    "    # print(time_dataset.head(10))\n",
    "    desc = ratings_temp[ratings_temp['userId'] == uid].sort_values(by='timestamp', ascending=False)\n",
    "    arr =desc.head(5).values\n",
    "    # print(arr)\n",
    "    movie_list = arr[:,1]\n",
    "    # movie_list = np.append(movie_list,16)\n",
    "    # print(movie_list)\n",
    "    # print(ratings_temp)\n",
    "    # a= ratings_temp.loc[movie_list]\n",
    "    # print(a)\n",
    "    # print(final_dataset)\n",
    "\n",
    "    final_dataset.fillna(0,inplace=True)\n",
    "    time_dataset.fillna(0,inplace=True)\n",
    "    # time_dataset.fillna(0,inplace=True)\n",
    "    # print(final_dataset.head())\n",
    "    no_user_voted = ratings_temp.groupby('movieId')['rating'].agg('count')\n",
    "    # print(no_user_voted)\n",
    "    no_movies_voted = ratings_temp.groupby('userId')['rating'].agg('count')\n",
    "    final_dataset = final_dataset.loc[no_user_voted[no_user_voted > 10].index,:]\n",
    "    final_dataset=final_dataset.loc[:,no_movies_voted[no_movies_voted > 50].index]\n",
    "    # print(final_dataset)\n",
    "    final_dataset = final_dataset.loc[movie_list]\n",
    "\n",
    "    final_dataset = final_dataset.T\n",
    "    # print(final_dataset.iat[56])\n",
    "    new_arr=  np.array(final_dataset)\n",
    "    list_data = new_arr.tolist()\n",
    "    knn = NearestNeighbors(metric='cosine', algorithm='brute', n_neighbors=20, n_jobs=-1)\n",
    "    knn.fit(list_data)\n",
    "    distances , indices =knn.kneighbors([list_data[0]],n_neighbors=10)\n",
    "    rec_movie_indices = sorted(list(zip(indices.squeeze().tolist(),distances.squeeze().tolist())),key=lambda x: x[1])[:0:-1]\n",
    "    # # print(rec_movie_indices)\n",
    "    list_uid = list(zip(*rec_movie_indices))[0]\n",
    "    return sorted(zip(distances.tolist()[0], indices.tolist()[0]))\n",
    "    # return indices.tolist()[0]\n"
   ],
   "outputs": [],
   "metadata": {}
  },
  {
   "cell_type": "code",
   "execution_count": null,
   "source": [
    "\n"
   ],
   "outputs": [],
   "metadata": {}
  },
  {
   "cell_type": "code",
   "execution_count": 262,
   "source": [
    "def get_recommendation(uid,movie):\n",
    "    list_uid = getListUid(uid)\n",
    "    list_uid.pop(0)\n",
    "    ratings_temp = ratings\n",
    "    movies_temp = movies\n",
    "    \n",
    "    final_dataset = ratings_temp.pivot(index='movieId',columns='userId',values='rating')\n",
    "    time_dataset = ratings_temp.pivot(index='movieId',columns='userId',values='timestamp')\n",
    "    test_id = ratings_temp[ratings_temp['userId'] == 56]\n",
    "    # print(test_id)\n",
    "    # print()\n",
    "    x = int(test_id.size/4)\n",
    "    count_phim = []\n",
    "    for i in range(x):\n",
    "        if (test_id.iloc[i].at['rating'] >= 4):\n",
    "            count_phim.append(test_id.iloc[i].at['movieId'])\n",
    "    # print(count_phim)\n",
    "    \n",
    "    # print(test_id.iloc[1].at['rating'])\n",
    "    # for i in test_id.rows:\n",
    "    #     print(i['movieId'])\n",
    "    count_phim = []\n",
    "    # total = []\n",
    "    np.set_printoptions(suppress=True,\\\n",
    "    formatter={'float_kind':'{:0.0f}'.format})\n",
    "    for i in list_uid:\n",
    "        # currId = ratings_temp[ratings_temp['userId'] == i[1]]\n",
    "        # print(i[1])\n",
    "        test_id = ratings_temp[ratings_temp['userId'] == i[1]]\n",
    "        # print(test_id)\n",
    "        # print()\n",
    "        x = int(test_id.size/4)\n",
    "        for j in range(x):\n",
    "            if (test_id.iloc[j].at['rating'] >= 4):\n",
    "                count_phim.append(test_id.iloc[j].at['movieId'])\n",
    "    \n",
    "    unique, counts = np.unique(np.array(count_phim), return_counts=True)\n",
    "    final_arr = np.asarray((unique, counts)).T.tolist()\n",
    "    \n",
    "    print (sorted(final_arr,key=lambda l:l[1], reverse=True))\n",
    "    \n",
    "    \n",
    "\n",
    "get_recommendation(43,\"Iron Man\")"
   ],
   "outputs": [
    {
     "output_type": "stream",
     "name": "stdout",
     "text": [
      "[[296.0, 4.0], [608.0, 4.0], [1.0, 3.0], [47.0, 3.0], [50.0, 3.0], [249.0, 3.0], [350.0, 3.0], [480.0, 3.0], [527.0, 3.0], [589.0, 3.0], [593.0, 3.0], [1136.0, 3.0], [1193.0, 3.0], [1206.0, 3.0], [2762.0, 3.0], [2804.0, 3.0], [2858.0, 3.0], [2959.0, 3.0], [4306.0, 3.0], [4886.0, 3.0], [4979.0, 3.0], [6874.0, 3.0], [6.0, 2.0], [29.0, 2.0], [32.0, 2.0], [36.0, 2.0], [95.0, 2.0], [111.0, 2.0], [161.0, 2.0], [215.0, 2.0], [260.0, 2.0], [292.0, 2.0], [293.0, 2.0], [318.0, 2.0], [329.0, 2.0], [356.0, 2.0], [364.0, 2.0], [377.0, 2.0], [434.0, 2.0], [457.0, 2.0], [474.0, 2.0], [494.0, 2.0], [541.0, 2.0], [586.0, 2.0], [587.0, 2.0], [595.0, 2.0], [596.0, 2.0], [597.0, 2.0], [858.0, 2.0], [1036.0, 2.0], [1127.0, 2.0], [1196.0, 2.0], [1198.0, 2.0], [1200.0, 2.0], [1210.0, 2.0], [1213.0, 2.0], [1214.0, 2.0], [1221.0, 2.0], [1225.0, 2.0], [1240.0, 2.0], [1259.0, 2.0], [1265.0, 2.0], [1270.0, 2.0], [1291.0, 2.0], [1517.0, 2.0], [1527.0, 2.0], [1580.0, 2.0], [1641.0, 2.0], [1719.0, 2.0], [1923.0, 2.0], [1997.0, 2.0], [2081.0, 2.0], [2302.0, 2.0], [2324.0, 2.0], [2571.0, 2.0], [2599.0, 2.0], [2617.0, 2.0], [2692.0, 2.0], [2916.0, 2.0], [3147.0, 2.0], [3996.0, 2.0], [4027.0, 2.0], [4085.0, 2.0], [4246.0, 2.0], [4701.0, 2.0], [4878.0, 2.0], [4896.0, 2.0], [4903.0, 2.0], [4963.0, 2.0], [4978.0, 2.0], [5669.0, 2.0], [5991.0, 2.0], [7438.0, 2.0], [2.0, 1.0], [9.0, 1.0], [10.0, 1.0], [21.0, 1.0], [39.0, 1.0], [41.0, 1.0], [45.0, 1.0], [48.0, 1.0], [58.0, 1.0], [62.0, 1.0], [70.0, 1.0], [89.0, 1.0], [125.0, 1.0], [141.0, 1.0], [160.0, 1.0], [165.0, 1.0], [172.0, 1.0], [173.0, 1.0], [185.0, 1.0], [196.0, 1.0], [204.0, 1.0], [208.0, 1.0], [217.0, 1.0], [223.0, 1.0], [225.0, 1.0], [229.0, 1.0], [231.0, 1.0], [233.0, 1.0], [247.0, 1.0], [253.0, 1.0], [262.0, 1.0], [266.0, 1.0], [272.0, 1.0], [273.0, 1.0], [274.0, 1.0], [303.0, 1.0], [315.0, 1.0], [316.0, 1.0], [319.0, 1.0], [328.0, 1.0], [332.0, 1.0], [337.0, 1.0], [349.0, 1.0], [353.0, 1.0], [362.0, 1.0], [367.0, 1.0], [370.0, 1.0], [380.0, 1.0], [384.0, 1.0], [405.0, 1.0], [420.0, 1.0], [426.0, 1.0], [432.0, 1.0], [435.0, 1.0], [442.0, 1.0], [454.0, 1.0], [461.0, 1.0], [464.0, 1.0], [475.0, 1.0], [497.0, 1.0], [500.0, 1.0], [507.0, 1.0], [509.0, 1.0], [515.0, 1.0], [540.0, 1.0], [543.0, 1.0], [551.0, 1.0], [562.0, 1.0], [610.0, 1.0], [616.0, 1.0], [628.0, 1.0], [648.0, 1.0], [653.0, 1.0], [662.0, 1.0], [681.0, 1.0], [714.0, 1.0], [719.0, 1.0], [733.0, 1.0], [745.0, 1.0], [750.0, 1.0], [765.0, 1.0], [780.0, 1.0], [786.0, 1.0], [802.0, 1.0], [832.0, 1.0], [835.0, 1.0], [839.0, 1.0], [866.0, 1.0], [920.0, 1.0], [924.0, 1.0], [1037.0, 1.0], [1041.0, 1.0], [1047.0, 1.0], [1059.0, 1.0], [1060.0, 1.0], [1066.0, 1.0], [1073.0, 1.0], [1079.0, 1.0], [1089.0, 1.0], [1095.0, 1.0], [1131.0, 1.0], [1132.0, 1.0], [1148.0, 1.0], [1150.0, 1.0], [1171.0, 1.0], [1175.0, 1.0], [1186.0, 1.0], [1197.0, 1.0], [1207.0, 1.0], [1208.0, 1.0], [1219.0, 1.0], [1222.0, 1.0], [1223.0, 1.0], [1224.0, 1.0], [1227.0, 1.0], [1230.0, 1.0], [1233.0, 1.0], [1243.0, 1.0], [1245.0, 1.0], [1249.0, 1.0], [1258.0, 1.0], [1261.0, 1.0], [1264.0, 1.0], [1269.0, 1.0], [1272.0, 1.0], [1273.0, 1.0], [1277.0, 1.0], [1278.0, 1.0], [1282.0, 1.0], [1285.0, 1.0], [1299.0, 1.0], [1307.0, 1.0], [1343.0, 1.0], [1345.0, 1.0], [1350.0, 1.0], [1356.0, 1.0], [1358.0, 1.0], [1365.0, 1.0], [1370.0, 1.0], [1372.0, 1.0], [1373.0, 1.0], [1374.0, 1.0], [1376.0, 1.0], [1387.0, 1.0], [1391.0, 1.0], [1396.0, 1.0], [1411.0, 1.0], [1459.0, 1.0], [1464.0, 1.0], [1497.0, 1.0], [1544.0, 1.0], [1617.0, 1.0], [1625.0, 1.0], [1639.0, 1.0], [1674.0, 1.0], [1682.0, 1.0], [1690.0, 1.0], [1699.0, 1.0], [1721.0, 1.0], [1732.0, 1.0], [1747.0, 1.0], [1748.0, 1.0], [1777.0, 1.0], [1805.0, 1.0], [1884.0, 1.0], [1909.0, 1.0], [1918.0, 1.0], [1994.0, 1.0], [2005.0, 1.0], [2011.0, 1.0], [2020.0, 1.0], [2025.0, 1.0], [2028.0, 1.0], [2072.0, 1.0], [2076.0, 1.0], [2085.0, 1.0], [2096.0, 1.0], [2118.0, 1.0], [2125.0, 1.0], [2140.0, 1.0], [2144.0, 1.0], [2167.0, 1.0], [2174.0, 1.0], [2236.0, 1.0], [2279.0, 1.0], [2288.0, 1.0], [2289.0, 1.0], [2291.0, 1.0], [2300.0, 1.0], [2310.0, 1.0], [2313.0, 1.0], [2318.0, 1.0], [2329.0, 1.0], [2333.0, 1.0], [2349.0, 1.0], [2355.0, 1.0], [2391.0, 1.0], [2395.0, 1.0], [2396.0, 1.0], [2401.0, 1.0], [2411.0, 1.0], [2490.0, 1.0], [2502.0, 1.0], [2542.0, 1.0], [2551.0, 1.0], [2648.0, 1.0], [2657.0, 1.0], [2671.0, 1.0], [2686.0, 1.0], [2694.0, 1.0], [2860.0, 1.0], [2890.0, 1.0], [2915.0, 1.0], [2917.0, 1.0], [2968.0, 1.0], [2987.0, 1.0], [2997.0, 1.0], [3000.0, 1.0], [3018.0, 1.0], [3045.0, 1.0], [3052.0, 1.0], [3060.0, 1.0], [3067.0, 1.0], [3081.0, 1.0], [3100.0, 1.0], [3108.0, 1.0], [3114.0, 1.0], [3163.0, 1.0], [3175.0, 1.0], [3176.0, 1.0], [3178.0, 1.0], [3203.0, 1.0], [3260.0, 1.0], [3262.0, 1.0], [3267.0, 1.0], [3275.0, 1.0], [3302.0, 1.0], [3408.0, 1.0], [3448.0, 1.0], [3498.0, 1.0], [3505.0, 1.0], [3527.0, 1.0], [3576.0, 1.0], [3671.0, 1.0], [3677.0, 1.0], [3683.0, 1.0], [3702.0, 1.0], [3703.0, 1.0], [3717.0, 1.0], [3728.0, 1.0], [3751.0, 1.0], [3798.0, 1.0], [3863.0, 1.0], [3882.0, 1.0], [3897.0, 1.0], [3910.0, 1.0], [3911.0, 1.0], [3949.0, 1.0], [3984.0, 1.0], [3993.0, 1.0], [3994.0, 1.0], [4011.0, 1.0], [4014.0, 1.0], [4022.0, 1.0], [4034.0, 1.0], [4105.0, 1.0], [4117.0, 1.0], [4144.0, 1.0], [4160.0, 1.0], [4210.0, 1.0], [4224.0, 1.0], [4226.0, 1.0], [4251.0, 1.0], [4308.0, 1.0], [4310.0, 1.0], [4367.0, 1.0], [4517.0, 1.0], [4612.0, 1.0], [4641.0, 1.0], [4720.0, 1.0], [4855.0, 1.0], [4901.0, 1.0], [4921.0, 1.0], [4973.0, 1.0], [5013.0, 1.0], [5034.0, 1.0], [5266.0, 1.0], [5267.0, 1.0], [5299.0, 1.0], [5388.0, 1.0], [5391.0, 1.0], [5445.0, 1.0], [5625.0, 1.0], [5816.0, 1.0], [5903.0, 1.0], [5945.0, 1.0], [5952.0, 1.0], [6218.0, 1.0], [6252.0, 1.0], [6296.0, 1.0], [6333.0, 1.0], [6539.0, 1.0], [6548.0, 1.0], [6586.0, 1.0], [6593.0, 1.0], [6671.0, 1.0], [6708.0, 1.0], [6711.0, 1.0], [6750.0, 1.0], [6850.0, 1.0], [6863.0, 1.0], [6870.0, 1.0], [6873.0, 1.0], [6942.0, 1.0], [7090.0, 1.0], [7153.0, 1.0], [8360.0, 1.0], [8368.0, 1.0], [8644.0, 1.0], [8784.0, 1.0], [27773.0, 1.0], [27904.0, 1.0], [44191.0, 1.0], [48774.0, 1.0], [56367.0, 1.0], [56757.0, 1.0], [63082.0, 1.0], [64716.0, 1.0], [68157.0, 1.0], [69122.0, 1.0], [71057.0, 1.0], [72226.0, 1.0], [73017.0, 1.0], [73321.0, 1.0], [74458.0, 1.0], [76093.0, 1.0], [79132.0, 1.0], [91500.0, 1.0], [99114.0, 1.0], [102194.0, 1.0], [105355.0, 1.0], [106487.0, 1.0], [116823.0, 1.0]]\n"
     ]
    }
   ],
   "metadata": {}
  }
 ],
 "metadata": {
  "orig_nbformat": 4,
  "language_info": {
   "name": "python",
   "version": "3.8.10",
   "mimetype": "text/x-python",
   "codemirror_mode": {
    "name": "ipython",
    "version": 3
   },
   "pygments_lexer": "ipython3",
   "nbconvert_exporter": "python",
   "file_extension": ".py"
  },
  "kernelspec": {
   "name": "python3",
   "display_name": "Python 3.8.10 64-bit"
  },
  "interpreter": {
   "hash": "916dbcbb3f70747c44a77c7bcd40155683ae19c65e1c03b4aa3499c5328201f1"
  }
 },
 "nbformat": 4,
 "nbformat_minor": 2
}